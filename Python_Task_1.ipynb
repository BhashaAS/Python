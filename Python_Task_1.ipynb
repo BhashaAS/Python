{
  "nbformat": 4,
  "nbformat_minor": 0,
  "metadata": {
    "colab": {
      "provenance": []
    },
    "kernelspec": {
      "name": "python3",
      "display_name": "Python 3"
    },
    "language_info": {
      "name": "python"
    }
  },
  "cells": [
    {
      "cell_type": "code",
      "execution_count": 187,
      "metadata": {
        "id": "c32JymUNhunL"
      },
      "outputs": [],
      "source": [
        "retail_inventory = {\n",
        "    \"Electronics\": {\n",
        "        \"Laptop\": [55000, 30, \"Dell\"],\n",
        "        \"Mobile\": [25000, 50, \"Samsung\"],\n",
        "        \"Tablet\": [18000, 20, \"Lenovo\"],\n",
        "        \"Smart Watch\": [7999, 40, \"Noise\"]\n",
        "    },\n",
        "    \"Apparel\": {\n",
        "        \"T-Shirt\": [499, 100, \"H&M\"],\n",
        "        \"Jeans\": [1199, 60, \"Levi's\"],\n",
        "        \"Jacket\": [2499, 25, \"Puma\"]\n",
        "    },\n",
        "    \"Home Appliances\": {\n",
        "        \"Microwave\": [8500, 15, \"LG\"],\n",
        "        \"Vacuum Cleaner\": [7000, 10, \"Philips\"],\n",
        "        \"Refrigerator\": [30000, 8, \"Samsung\"]\n",
        "    }\n",
        "}"
      ]
    },
    {
      "cell_type": "code",
      "source": [],
      "metadata": {
        "id": "mKU9zQ0ojTa4"
      },
      "execution_count": null,
      "outputs": []
    },
    {
      "cell_type": "code",
      "source": [
        "##How do you get all the keys from a dictionary? (Use .keys()\n",
        "retail_inventory.keys()\n"
      ],
      "metadata": {
        "colab": {
          "base_uri": "https://localhost:8080/"
        },
        "id": "vazVR13Dh1AV",
        "outputId": "a005b172-0bd9-4868-f5b7-eb99ac5f7b4e"
      },
      "execution_count": 8,
      "outputs": [
        {
          "output_type": "execute_result",
          "data": {
            "text/plain": [
              "dict_keys(['Electronics', 'Apparel', 'Home Appliances'])"
            ]
          },
          "metadata": {},
          "execution_count": 8
        }
      ]
    },
    {
      "cell_type": "code",
      "source": [
        "##How do you get all the values from a dictionary? (Use .values())\n",
        "retail_inventory.values()"
      ],
      "metadata": {
        "colab": {
          "base_uri": "https://localhost:8080/"
        },
        "id": "gs2XzlgPh1Dq",
        "outputId": "2175dc64-8547-41e8-c3a6-425ac4aaa37f"
      },
      "execution_count": 9,
      "outputs": [
        {
          "output_type": "execute_result",
          "data": {
            "text/plain": [
              "dict_values([{'Laptop': [55000, 30, 'Dell'], 'Mobile': [25000, 50, 'Samsung'], 'Tablet': [18000, 20, 'Lenovo'], 'Smart Watch': [7999, 40, 'Noise']}, {'T-Shirt': [499, 100, 'H&M'], 'Jeans': [1199, 60, \"Levi's\"], 'Jacket': [2499, 25, 'Puma']}, {'Microwave': [8500, 15, 'LG'], 'Vacuum Cleaner': [7000, 10, 'Philips'], 'Refrigerator': [30000, 8, 'Samsung']}])"
            ]
          },
          "metadata": {},
          "execution_count": 9
        }
      ]
    },
    {
      "cell_type": "code",
      "source": [
        "##How do you retrieve the value for a specific key safely? (Use .get(key))\n",
        "(retail_inventory.get('Electronics'))['Mobile']"
      ],
      "metadata": {
        "colab": {
          "base_uri": "https://localhost:8080/"
        },
        "id": "3qfmPc5Ih1GQ",
        "outputId": "8ee28a24-e7c6-49ca-c906-1dae0e638eeb"
      },
      "execution_count": 22,
      "outputs": [
        {
          "output_type": "execute_result",
          "data": {
            "text/plain": [
              "[25000, 50, 'Samsung']"
            ]
          },
          "metadata": {},
          "execution_count": 22
        }
      ]
    },
    {
      "cell_type": "code",
      "source": [
        "##How do you check if a key exists in a dictionary? (Use in)\n",
        "if \"Apparel\" in retail_inventory:\n",
        "  print('Yes')\n"
      ],
      "metadata": {
        "colab": {
          "base_uri": "https://localhost:8080/"
        },
        "id": "99Odpb1ih1Td",
        "outputId": "d147f4d6-88cf-4a32-eceb-e07a4a7c1eac"
      },
      "execution_count": 57,
      "outputs": [
        {
          "output_type": "stream",
          "name": "stdout",
          "text": [
            "Yes\n"
          ]
        }
      ]
    },
    {
      "cell_type": "code",
      "source": [
        "##How do you remove a key and return its value? (Use .pop(key))\n",
        "\n",
        "(retail_inventory.pop(\"Apparel\"))"
      ],
      "metadata": {
        "colab": {
          "base_uri": "https://localhost:8080/"
        },
        "id": "nnvb5Fc4ppp4",
        "outputId": "374c15df-2da0-4431-cec8-1c9ef9c715bb"
      },
      "execution_count": 58,
      "outputs": [
        {
          "output_type": "execute_result",
          "data": {
            "text/plain": [
              "{'T-Shirt': [499, 100, 'H&M'],\n",
              " 'Jeans': [1199, 60, \"Levi's\"],\n",
              " 'Jacket': [2499, 25, 'Puma']}"
            ]
          },
          "metadata": {},
          "execution_count": 58
        }
      ]
    },
    {
      "cell_type": "code",
      "source": [
        "retail_inventory"
      ],
      "metadata": {
        "colab": {
          "base_uri": "https://localhost:8080/"
        },
        "id": "XWHvVQMzubsb",
        "outputId": "3c90708d-8b94-41a7-9d36-d33eb1cd0018"
      },
      "execution_count": 59,
      "outputs": [
        {
          "output_type": "execute_result",
          "data": {
            "text/plain": [
              "{'Electronics': {'Laptop': [55000, 30, 'Dell'],\n",
              "  'Mobile': [25000, 50, 'Samsung'],\n",
              "  'Tablet': [18000, 20, 'Lenovo'],\n",
              "  'Smart Watch': [7999, 40, 'Noise']},\n",
              " 'Home Appliances': {'Microwave': [8500, 15, 'LG'],\n",
              "  'Vacuum Cleaner': [7000, 10, 'Philips'],\n",
              "  'Refrigerator': [30000, 8, 'Samsung']}}"
            ]
          },
          "metadata": {},
          "execution_count": 59
        }
      ]
    },
    {
      "cell_type": "code",
      "source": [
        "##How do you retrieve both keys and values? (Use .items())\n",
        "retail_inventory.items()"
      ],
      "metadata": {
        "colab": {
          "base_uri": "https://localhost:8080/"
        },
        "id": "CjB35-OTuiQA",
        "outputId": "75d1a07d-e254-4820-e778-ddd5f1f40e41"
      },
      "execution_count": 60,
      "outputs": [
        {
          "output_type": "execute_result",
          "data": {
            "text/plain": [
              "dict_items([('Electronics', {'Laptop': [55000, 30, 'Dell'], 'Mobile': [25000, 50, 'Samsung'], 'Tablet': [18000, 20, 'Lenovo'], 'Smart Watch': [7999, 40, 'Noise']}), ('Home Appliances', {'Microwave': [8500, 15, 'LG'], 'Vacuum Cleaner': [7000, 10, 'Philips'], 'Refrigerator': [30000, 8, 'Samsung']})])"
            ]
          },
          "metadata": {},
          "execution_count": 60
        }
      ]
    },
    {
      "cell_type": "code",
      "source": [
        "##How do you add or update a value for a key? (Use .update({key: value}))\n",
        "(retail_inventory.update({\"Makeup Items\":\"powder\"}))"
      ],
      "metadata": {
        "id": "Eoqg-bYjvsr4"
      },
      "execution_count": 61,
      "outputs": []
    },
    {
      "cell_type": "code",
      "source": [
        "##How do you remove all key-value pairs from a dictionary? (Use .clear())\n",
        "(retail_inventory.clear())"
      ],
      "metadata": {
        "id": "iYW8ZL5-wlJX"
      },
      "execution_count": 63,
      "outputs": []
    },
    {
      "cell_type": "code",
      "source": [
        "retail_inventory"
      ],
      "metadata": {
        "colab": {
          "base_uri": "https://localhost:8080/"
        },
        "id": "mFcSX-wGxAkf",
        "outputId": "b21639ad-ab4d-46de-8db2-cbd231281d6c"
      },
      "execution_count": 64,
      "outputs": [
        {
          "output_type": "execute_result",
          "data": {
            "text/plain": [
              "{}"
            ]
          },
          "metadata": {},
          "execution_count": 64
        }
      ]
    },
    {
      "cell_type": "code",
      "source": [
        "##How do you create an empty dictionary? (Use {} or dict())\n",
        "\n",
        "retail_inventory.clear()\n"
      ],
      "metadata": {
        "id": "tSykD0n7xCjq"
      },
      "execution_count": 69,
      "outputs": []
    },
    {
      "cell_type": "code",
      "source": [
        "retail_inventory"
      ],
      "metadata": {
        "colab": {
          "base_uri": "https://localhost:8080/"
        },
        "id": "4n5H782CxrAV",
        "outputId": "8ed56252-05f4-4800-bb81-50067a3c42d7"
      },
      "execution_count": 70,
      "outputs": [
        {
          "output_type": "execute_result",
          "data": {
            "text/plain": [
              "{}"
            ]
          },
          "metadata": {},
          "execution_count": 70
        }
      ]
    },
    {
      "cell_type": "code",
      "source": [
        "##How do you copy a dictionary? (Use .copy())\n",
        "my_data=retail_inventory.copy()['Electronics']\n",
        "print(my_data)"
      ],
      "metadata": {
        "colab": {
          "base_uri": "https://localhost:8080/"
        },
        "id": "WsLlGCG3yWY3",
        "outputId": "3f9f90ab-0f6d-440b-e2d5-b6bf762001ba"
      },
      "execution_count": 88,
      "outputs": [
        {
          "output_type": "stream",
          "name": "stdout",
          "text": [
            "{'Laptop': [55000, 30, 'Dell'], 'Mobile': [25000, 50, 'Samsung'], 'Tablet': [18000, 20, 'Lenovo'], 'Smart Watch': [7999, 40, 'Noise']}\n"
          ]
        }
      ]
    },
    {
      "cell_type": "code",
      "source": [
        "retail_inventory\n"
      ],
      "metadata": {
        "colab": {
          "base_uri": "https://localhost:8080/"
        },
        "id": "aIaOPO6r0gMZ",
        "outputId": "9f84d002-bdca-4797-b18f-99ac6819db8a"
      },
      "execution_count": 84,
      "outputs": [
        {
          "output_type": "execute_result",
          "data": {
            "text/plain": [
              "{'Electronics': {},\n",
              " 'Apparel': {'T-Shirt': [499, 100, 'H&M'],\n",
              "  'Jeans': [1199, 60, \"Levi's\"],\n",
              "  'Jacket': [2499, 25, 'Puma']},\n",
              " 'Home Appliances': {'Microwave': [8500, 15, 'LG'],\n",
              "  'Vacuum Cleaner': [7000, 10, 'Philips'],\n",
              "  'Refrigerator': [30000, 8, 'Samsung']}}"
            ]
          },
          "metadata": {},
          "execution_count": 84
        }
      ]
    },
    {
      "cell_type": "code",
      "source": [
        "retail_inventory"
      ],
      "metadata": {
        "colab": {
          "base_uri": "https://localhost:8080/"
        },
        "id": "qKL8MeNs1nF1",
        "outputId": "32b4dba3-a8b5-48f8-de4c-603f5701f993"
      },
      "execution_count": 89,
      "outputs": [
        {
          "output_type": "execute_result",
          "data": {
            "text/plain": [
              "{'Electronics': {'Laptop': [55000, 30, 'Dell'],\n",
              "  'Mobile': [25000, 50, 'Samsung'],\n",
              "  'Tablet': [18000, 20, 'Lenovo'],\n",
              "  'Smart Watch': [7999, 40, 'Noise']},\n",
              " 'Apparel': {'T-Shirt': [499, 100, 'H&M'],\n",
              "  'Jeans': [1199, 60, \"Levi's\"],\n",
              "  'Jacket': [2499, 25, 'Puma']},\n",
              " 'Home Appliances': {'Microwave': [8500, 15, 'LG'],\n",
              "  'Vacuum Cleaner': [7000, 10, 'Philips'],\n",
              "  'Refrigerator': [30000, 8, 'Samsung']}}"
            ]
          },
          "metadata": {},
          "execution_count": 89
        }
      ]
    },
    {
      "cell_type": "code",
      "source": [
        "newdata=retail_inventory.setdefault('Mobile',\"Android \")\n",
        "##newdata=retail_inventory.setdefault('Electronics',\"Android \")"
      ],
      "metadata": {
        "id": "UgUJ6zs6DI7P"
      },
      "execution_count": 125,
      "outputs": []
    },
    {
      "cell_type": "code",
      "source": [
        "newdata"
      ],
      "metadata": {
        "colab": {
          "base_uri": "https://localhost:8080/",
          "height": 35
        },
        "id": "rxABTLmEE4mU",
        "outputId": "12caf5e2-be37-459a-e9b0-ab7cb20ad053"
      },
      "execution_count": 126,
      "outputs": [
        {
          "output_type": "execute_result",
          "data": {
            "text/plain": [
              "'Android '"
            ],
            "application/vnd.google.colaboratory.intrinsic+json": {
              "type": "string"
            }
          },
          "metadata": {},
          "execution_count": 126
        }
      ]
    },
    {
      "cell_type": "code",
      "source": [
        "##Use .update() to merge two dictionaries.\n",
        "\n",
        "newdata1={'beauty products':'powder',\n",
        "          'healthcare':'cosmetics',\n",
        "          'sports':'cricket'}"
      ],
      "metadata": {
        "id": "fBl7zTEyFOQg"
      },
      "execution_count": 128,
      "outputs": []
    },
    {
      "cell_type": "code",
      "source": [
        "x=(retail_inventory.update(newdata1))"
      ],
      "metadata": {
        "id": "cnfwvdR8I0JK"
      },
      "execution_count": 130,
      "outputs": []
    },
    {
      "cell_type": "code",
      "source": [
        "retail_inventory"
      ],
      "metadata": {
        "colab": {
          "base_uri": "https://localhost:8080/"
        },
        "id": "yrPHXbw2I905",
        "outputId": "7ea73611-d3e5-40f8-d934-347a61ed0530"
      },
      "execution_count": 132,
      "outputs": [
        {
          "output_type": "execute_result",
          "data": {
            "text/plain": [
              "{'Electronics': {'Laptop': [55000, 30, 'Dell'],\n",
              "  'Mobile': [25000, 50, 'Samsung'],\n",
              "  'Tablet': [18000, 20, 'Lenovo'],\n",
              "  'Smart Watch': [7999, 40, 'Noise']},\n",
              " 'Apparel': {'T-Shirt': [499, 100, 'H&M'],\n",
              "  'Jeans': [1199, 60, \"Levi's\"],\n",
              "  'Jacket': [2499, 25, 'Puma']},\n",
              " 'Home Appliances': {'Microwave': [8500, 15, 'LG'],\n",
              "  'Vacuum Cleaner': [7000, 10, 'Philips'],\n",
              "  'Refrigerator': [30000, 8, 'Samsung']},\n",
              " 'Mobile': 'Android ',\n",
              " 'beauty products': 'powder',\n",
              " 'healthcare': 'cosmetics',\n",
              " 'sports': 'cricket'}"
            ]
          },
          "metadata": {},
          "execution_count": 132
        }
      ]
    },
    {
      "cell_type": "code",
      "source": [
        "##Use .get() with a default return value if key is not found."
      ],
      "metadata": {
        "id": "gi4opsT7JCeB"
      },
      "execution_count": null,
      "outputs": []
    },
    {
      "cell_type": "code",
      "source": [
        "##retail_inventory.get('Smart Watch','Apple')\n",
        "new_dict=(retail_inventory.get('Electronics','Android'))\n",
        "new_dict1=(retail_inventory.get('Vehicals','not found'))"
      ],
      "metadata": {
        "id": "thwNe3XHRrec"
      },
      "execution_count": 155,
      "outputs": []
    },
    {
      "cell_type": "code",
      "source": [
        "new_dict\n"
      ],
      "metadata": {
        "colab": {
          "base_uri": "https://localhost:8080/"
        },
        "id": "LSW4l3MzUYSb",
        "outputId": "4ce495e4-91c0-4284-af3d-2f9f78c00f2f"
      },
      "execution_count": 156,
      "outputs": [
        {
          "output_type": "execute_result",
          "data": {
            "text/plain": [
              "{'Laptop': [55000, 30, 'Dell'],\n",
              " 'Mobile': [25000, 50, 'Samsung'],\n",
              " 'Tablet': [18000, 20, 'Lenovo'],\n",
              " 'Smart Watch': [7999, 40, 'Noise']}"
            ]
          },
          "metadata": {},
          "execution_count": 156
        }
      ]
    },
    {
      "cell_type": "code",
      "source": [
        "new_dict1"
      ],
      "metadata": {
        "colab": {
          "base_uri": "https://localhost:8080/",
          "height": 35
        },
        "id": "CImY5nnRY_j8",
        "outputId": "a2f479b0-802b-4628-fc90-56ee8fc22158"
      },
      "execution_count": 157,
      "outputs": [
        {
          "output_type": "execute_result",
          "data": {
            "text/plain": [
              "'not found'"
            ],
            "application/vnd.google.colaboratory.intrinsic+json": {
              "type": "string"
            }
          },
          "metadata": {},
          "execution_count": 157
        }
      ]
    },
    {
      "cell_type": "code",
      "source": [
        "##What’s the difference between .pop() and .popitem()? Try both.pop\n",
        "\n",
        "Pop():\"using the POP() it will delete the particular key which we provide in method\"\n",
        "POPItem():\"using POPItem()\" the last key value got delete from the dictonary\n",
        "retail_inventory.pop(\"Home Appliances\")\n",
        "\n"
      ],
      "metadata": {
        "colab": {
          "base_uri": "https://localhost:8080/"
        },
        "id": "H0au0NM-ZDUK",
        "outputId": "14ae66cb-96e8-48d8-cc05-8f2b8658ae59"
      },
      "execution_count": 171,
      "outputs": [
        {
          "output_type": "execute_result",
          "data": {
            "text/plain": [
              "{'Microwave': [8500, 15, 'LG'],\n",
              " 'Vacuum Cleaner': [7000, 10, 'Philips'],\n",
              " 'Refrigerator': [30000, 8, 'Samsung']}"
            ]
          },
          "metadata": {},
          "execution_count": 171
        }
      ]
    },
    {
      "cell_type": "code",
      "source": [
        "retail_inventory"
      ],
      "metadata": {
        "colab": {
          "base_uri": "https://localhost:8080/"
        },
        "id": "e3GkkE9HZ85z",
        "outputId": "a4ce02dd-3ba2-4722-f93e-0dff6c74dbb1"
      },
      "execution_count": 169,
      "outputs": [
        {
          "output_type": "execute_result",
          "data": {
            "text/plain": [
              "{'Apparel': {'T-Shirt': [499, 100, 'H&M'],\n",
              "  'Jeans': [1199, 60, \"Levi's\"],\n",
              "  'Jacket': [2499, 25, 'Puma']}}"
            ]
          },
          "metadata": {},
          "execution_count": 169
        }
      ]
    },
    {
      "cell_type": "code",
      "source": [
        "retail_inventory.popitem()"
      ],
      "metadata": {
        "colab": {
          "base_uri": "https://localhost:8080/"
        },
        "id": "Tl_TjopcbAaF",
        "outputId": "7776543e-1f19-482b-b87e-7ad0605d41bf"
      },
      "execution_count": 178,
      "outputs": [
        {
          "output_type": "execute_result",
          "data": {
            "text/plain": [
              "('Home Appliances',\n",
              " {'Microwave': [8500, 15, 'LG'],\n",
              "  'Vacuum Cleaner': [7000, 10, 'Philips'],\n",
              "  'Refrigerator': [30000, 8, 'Samsung']})"
            ]
          },
          "metadata": {},
          "execution_count": 178
        }
      ]
    },
    {
      "cell_type": "code",
      "source": [
        "Use del to remove a key from a dictionary.\n",
        "\n",
        "del retail_inventory[\"Electronics\"]"
      ],
      "metadata": {
        "id": "PS4cAAOAcsuT"
      },
      "execution_count": 183,
      "outputs": []
    },
    {
      "cell_type": "code",
      "source": [
        "retail_inventory"
      ],
      "metadata": {
        "colab": {
          "base_uri": "https://localhost:8080/"
        },
        "id": "CAA5gPc-c45F",
        "outputId": "bc8a3674-06e8-4391-ed2a-218fedc4525a"
      },
      "execution_count": 184,
      "outputs": [
        {
          "output_type": "execute_result",
          "data": {
            "text/plain": [
              "{'Apparel': {'T-Shirt': [499, 100, 'H&M'],\n",
              "  'Jeans': [1199, 60, \"Levi's\"],\n",
              "  'Jacket': [2499, 25, 'Puma']}}"
            ]
          },
          "metadata": {},
          "execution_count": 184
        }
      ]
    },
    {
      "cell_type": "code",
      "source": [
        "##Get the number of keys in a dictionary. (Use len())\n",
        "len(retail_inventory[\"Electronics\"])\n"
      ],
      "metadata": {
        "colab": {
          "base_uri": "https://localhost:8080/"
        },
        "id": "KG-ZREP4dcuJ",
        "outputId": "2fff99ab-b103-48d1-f95c-1d682642736b"
      },
      "execution_count": 193,
      "outputs": [
        {
          "output_type": "execute_result",
          "data": {
            "text/plain": [
              "4"
            ]
          },
          "metadata": {},
          "execution_count": 193
        }
      ]
    },
    {
      "cell_type": "code",
      "source": [
        "##Convert a list of tuples into a dictionary. (Use dict() constructor)\n",
        "\n",
        "x=(('apple',2),('ball',3),('doll',5))\n",
        "y=dict(x)"
      ],
      "metadata": {
        "id": "v1ihBEyxeS15"
      },
      "execution_count": 204,
      "outputs": []
    },
    {
      "cell_type": "code",
      "source": [
        "y"
      ],
      "metadata": {
        "colab": {
          "base_uri": "https://localhost:8080/"
        },
        "id": "-7OAaETvicfa",
        "outputId": "9d93f68d-a5d6-4649-f182-272b24114597"
      },
      "execution_count": 205,
      "outputs": [
        {
          "output_type": "execute_result",
          "data": {
            "text/plain": [
              "{'apple': 2, 'ball': 3, 'doll': 5}"
            ]
          },
          "metadata": {},
          "execution_count": 205
        }
      ]
    },
    {
      "cell_type": "code",
      "source": [],
      "metadata": {
        "id": "GuvQE1FljkI4"
      },
      "execution_count": null,
      "outputs": []
    }
  ]
}