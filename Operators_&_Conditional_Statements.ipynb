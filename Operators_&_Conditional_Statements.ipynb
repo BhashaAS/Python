{
  "nbformat": 4,
  "nbformat_minor": 0,
  "metadata": {
    "colab": {
      "provenance": []
    },
    "kernelspec": {
      "name": "python3",
      "display_name": "Python 3"
    },
    "language_info": {
      "name": "python"
    }
  },
  "cells": [
    {
      "cell_type": "markdown",
      "source": [
        "##Arithmetic operators"
      ],
      "metadata": {
        "id": "rXLktTbQMofL"
      }
    },
    {
      "cell_type": "code",
      "source": [
        "x = 5\n",
        "y = 3\n",
        "\n",
        "print(x + y)"
      ],
      "metadata": {
        "colab": {
          "base_uri": "https://localhost:8080/"
        },
        "id": "CpFkEGvRMrGk",
        "outputId": "d8f95092-6196-4152-a442-c20a26aaa1c9"
      },
      "execution_count": 1,
      "outputs": [
        {
          "output_type": "stream",
          "name": "stdout",
          "text": [
            "8\n"
          ]
        }
      ]
    },
    {
      "cell_type": "code",
      "source": [
        "x = 10\n",
        "y = 3\n",
        "\n",
        "print(x - y)"
      ],
      "metadata": {
        "colab": {
          "base_uri": "https://localhost:8080/"
        },
        "id": "0tknebw8M0hn",
        "outputId": "f559b5d3-6d25-4a4f-8808-1a05b5cbb363"
      },
      "execution_count": 2,
      "outputs": [
        {
          "output_type": "stream",
          "name": "stdout",
          "text": [
            "7\n"
          ]
        }
      ]
    },
    {
      "cell_type": "code",
      "source": [
        "x = 5\n",
        "y = 3\n",
        "\n",
        "print(x * y)"
      ],
      "metadata": {
        "colab": {
          "base_uri": "https://localhost:8080/"
        },
        "id": "su3jgrDhM35I",
        "outputId": "6d2fdd49-9afb-4e1a-9531-de469f850a2a"
      },
      "execution_count": 3,
      "outputs": [
        {
          "output_type": "stream",
          "name": "stdout",
          "text": [
            "15\n"
          ]
        }
      ]
    },
    {
      "cell_type": "code",
      "source": [
        "x = 5\n",
        "y = 3\n",
        "\n",
        "print(x / y)"
      ],
      "metadata": {
        "colab": {
          "base_uri": "https://localhost:8080/"
        },
        "id": "SGUvL-1BM6GR",
        "outputId": "5ea896e4-20ab-438d-a960-4af12afef812"
      },
      "execution_count": 4,
      "outputs": [
        {
          "output_type": "stream",
          "name": "stdout",
          "text": [
            "1.6666666666666667\n"
          ]
        }
      ]
    },
    {
      "cell_type": "code",
      "source": [
        "x = 5\n",
        "y = 2\n",
        "\n",
        "print(x % y)\n"
      ],
      "metadata": {
        "colab": {
          "base_uri": "https://localhost:8080/"
        },
        "id": "Zp9nUTWKM7yt",
        "outputId": "b09f5d8c-5cbc-41cb-90ea-a98ea1d9585b"
      },
      "execution_count": 5,
      "outputs": [
        {
          "output_type": "stream",
          "name": "stdout",
          "text": [
            "1\n"
          ]
        }
      ]
    },
    {
      "cell_type": "code",
      "source": [
        "x = 5\n",
        "y = 2\n",
        "\n",
        "print(x ** y)"
      ],
      "metadata": {
        "colab": {
          "base_uri": "https://localhost:8080/"
        },
        "id": "QfGJAG3tNCwi",
        "outputId": "457a2fe4-430d-4dd6-f0af-8134de6a3215"
      },
      "execution_count": 6,
      "outputs": [
        {
          "output_type": "stream",
          "name": "stdout",
          "text": [
            "25\n"
          ]
        }
      ]
    },
    {
      "cell_type": "code",
      "source": [
        "x = 15\n",
        "y = 2\n",
        "\n",
        "print(x // y)"
      ],
      "metadata": {
        "colab": {
          "base_uri": "https://localhost:8080/"
        },
        "id": "YWrbWdACNNDx",
        "outputId": "db14c56c-8244-40a2-a31f-367c378220c0"
      },
      "execution_count": 7,
      "outputs": [
        {
          "output_type": "stream",
          "name": "stdout",
          "text": [
            "7\n"
          ]
        }
      ]
    },
    {
      "cell_type": "markdown",
      "source": [
        "##Assignment operators"
      ],
      "metadata": {
        "id": "YqF3iUP4NVD5"
      }
    },
    {
      "cell_type": "code",
      "source": [
        "x = 5\n",
        "\n",
        "print(x)\n"
      ],
      "metadata": {
        "colab": {
          "base_uri": "https://localhost:8080/"
        },
        "id": "dH3iJkMXNQc8",
        "outputId": "a70ce60f-0210-4829-8430-842086e67993"
      },
      "execution_count": 8,
      "outputs": [
        {
          "output_type": "stream",
          "name": "stdout",
          "text": [
            "5\n"
          ]
        }
      ]
    },
    {
      "cell_type": "code",
      "source": [
        "x = 5\n",
        "\n",
        "x += 3\n",
        "\n",
        "print(x)\n"
      ],
      "metadata": {
        "colab": {
          "base_uri": "https://localhost:8080/"
        },
        "id": "doDL0eQANcHe",
        "outputId": "d92bc6dd-ea7d-4c59-bb5f-c4c4562bac2b"
      },
      "execution_count": 9,
      "outputs": [
        {
          "output_type": "stream",
          "name": "stdout",
          "text": [
            "8\n"
          ]
        }
      ]
    },
    {
      "cell_type": "code",
      "source": [
        "x = 5\n",
        "\n",
        "x -= 3\n",
        "\n",
        "print(x)\n"
      ],
      "metadata": {
        "colab": {
          "base_uri": "https://localhost:8080/"
        },
        "id": "diSXV0i6Nfli",
        "outputId": "5552e9e0-c356-4de5-c40c-aae8b8cdd496"
      },
      "execution_count": 10,
      "outputs": [
        {
          "output_type": "stream",
          "name": "stdout",
          "text": [
            "2\n"
          ]
        }
      ]
    },
    {
      "cell_type": "code",
      "source": [
        "x = 5\n",
        "\n",
        "x *= 3\n",
        "\n",
        "print(x)\n",
        "\n",
        "\n",
        "x = 5\n",
        "\n",
        "x /= 3\n",
        "\n",
        "print(x)\n",
        "\n",
        "x = 5\n",
        "\n",
        "x %= 3\n",
        "\n",
        "print(x)\n",
        "\n",
        "x = 5\n",
        "\n",
        "x //= 3\n",
        "\n",
        "print(x)\n",
        "\n",
        "x = 5\n",
        "\n",
        "x **= 3\n",
        "\n",
        "print(x)\n",
        "\n",
        "\n",
        "\n"
      ],
      "metadata": {
        "colab": {
          "base_uri": "https://localhost:8080/"
        },
        "id": "1l8JfkU-NktZ",
        "outputId": "9535f266-95b0-4f06-e577-b42af67df479"
      },
      "execution_count": 14,
      "outputs": [
        {
          "output_type": "stream",
          "name": "stdout",
          "text": [
            "15\n",
            "1.6666666666666667\n",
            "2\n",
            "1\n",
            "125\n"
          ]
        }
      ]
    },
    {
      "cell_type": "markdown",
      "source": [
        "##Comparison Operators"
      ],
      "metadata": {
        "id": "7tL23MKSOtT2"
      }
    },
    {
      "cell_type": "code",
      "source": [
        "x = 5\n",
        "y = 3\n",
        "\n",
        "print(x == y)\n",
        "\n",
        "\n",
        "x = 5\n",
        "y = 3\n",
        "\n",
        "print(x != y)"
      ],
      "metadata": {
        "colab": {
          "base_uri": "https://localhost:8080/"
        },
        "id": "gw9hGY0BNvaJ",
        "outputId": "22c10aab-f86e-462c-acef-c038fabe99b0"
      },
      "execution_count": 16,
      "outputs": [
        {
          "output_type": "stream",
          "name": "stdout",
          "text": [
            "False\n",
            "True\n"
          ]
        }
      ]
    },
    {
      "cell_type": "code",
      "source": [
        "x = 5\n",
        "y = 3\n",
        "\n",
        "print(x > y)"
      ],
      "metadata": {
        "colab": {
          "base_uri": "https://localhost:8080/"
        },
        "id": "m-DV7HStOyQy",
        "outputId": "f8011141-acb4-4a50-ef39-1b560a607f0c"
      },
      "execution_count": 17,
      "outputs": [
        {
          "output_type": "stream",
          "name": "stdout",
          "text": [
            "True\n"
          ]
        }
      ]
    },
    {
      "cell_type": "code",
      "source": [
        "x = 5\n",
        "y = 3\n",
        "\n",
        "print(x < y)"
      ],
      "metadata": {
        "colab": {
          "base_uri": "https://localhost:8080/"
        },
        "id": "UiT2zou9ZsGW",
        "outputId": "1a7402e0-113a-47aa-9549-62352733cc7e"
      },
      "execution_count": 18,
      "outputs": [
        {
          "output_type": "stream",
          "name": "stdout",
          "text": [
            "False\n"
          ]
        }
      ]
    },
    {
      "cell_type": "code",
      "source": [
        "x = 7\n",
        "y = 6\n",
        "\n",
        "print(x >= y)"
      ],
      "metadata": {
        "colab": {
          "base_uri": "https://localhost:8080/"
        },
        "id": "tgivWXC6ZuSz",
        "outputId": "d41ed802-2f6e-452c-ceeb-0e4767063144"
      },
      "execution_count": 19,
      "outputs": [
        {
          "output_type": "stream",
          "name": "stdout",
          "text": [
            "True\n"
          ]
        }
      ]
    },
    {
      "cell_type": "code",
      "source": [
        "x = 5\n",
        "y = 9\n",
        "\n",
        "print(x <= y)"
      ],
      "metadata": {
        "colab": {
          "base_uri": "https://localhost:8080/"
        },
        "id": "VrhumQ6bZ0yw",
        "outputId": "d5d3bb02-0dd9-42e0-c6b4-1a46ba0b0701"
      },
      "execution_count": 21,
      "outputs": [
        {
          "output_type": "stream",
          "name": "stdout",
          "text": [
            "True\n"
          ]
        }
      ]
    },
    {
      "cell_type": "markdown",
      "source": [
        "##Logical Operators"
      ],
      "metadata": {
        "id": "GLgorEF1Z_vh"
      }
    },
    {
      "cell_type": "code",
      "source": [
        "x = 5\n",
        "\n",
        "print(x > 3 and x < 10)"
      ],
      "metadata": {
        "colab": {
          "base_uri": "https://localhost:8080/"
        },
        "id": "4qiJMvuWZ20_",
        "outputId": "442e3372-0f22-464f-99fd-5727a5486c0e"
      },
      "execution_count": 22,
      "outputs": [
        {
          "output_type": "stream",
          "name": "stdout",
          "text": [
            "True\n"
          ]
        }
      ]
    },
    {
      "cell_type": "code",
      "source": [
        "x = 5\n",
        "\n",
        "print(x > 3 or x < 10)"
      ],
      "metadata": {
        "colab": {
          "base_uri": "https://localhost:8080/"
        },
        "id": "pN0dbfYKaF4G",
        "outputId": "98770e38-a10c-47ed-d3a0-10215a17fb4f"
      },
      "execution_count": 25,
      "outputs": [
        {
          "output_type": "stream",
          "name": "stdout",
          "text": [
            "True\n"
          ]
        }
      ]
    },
    {
      "cell_type": "code",
      "source": [
        "x = [\"Grapes\", \"banana\"]\n",
        "y = [\"apple\", \"banana\"]\n",
        "z = x\n",
        "print(x is z)\n",
        "print(x is y)\n",
        "print(x == y)\n",
        "print(x is not z)\n",
        "print(x is not y)\n",
        "print(x != y)\n",
        "\n"
      ],
      "metadata": {
        "colab": {
          "base_uri": "https://localhost:8080/"
        },
        "id": "qfUBfwkfhyaj",
        "outputId": "d31f44b6-7ff0-4969-e53f-306c963f2fc3"
      },
      "execution_count": 33,
      "outputs": [
        {
          "output_type": "stream",
          "name": "stdout",
          "text": [
            "True\n",
            "False\n",
            "False\n",
            "False\n",
            "True\n",
            "True\n"
          ]
        }
      ]
    },
    {
      "cell_type": "code",
      "source": [
        "x = [\"Grapes\", \"banana\"]\n",
        "\n",
        "print(\"banana\" in x)\n",
        "\n",
        "print(\"Orange\" not in x)"
      ],
      "metadata": {
        "colab": {
          "base_uri": "https://localhost:8080/"
        },
        "id": "UcbaJErQiOOc",
        "outputId": "8aba7365-2c9d-4917-ecbf-66c47d677146"
      },
      "execution_count": 32,
      "outputs": [
        {
          "output_type": "stream",
          "name": "stdout",
          "text": [
            "True\n",
            "True\n"
          ]
        }
      ]
    },
    {
      "cell_type": "code",
      "source": [
        "username = input()\n",
        "password = input()\n",
        "\n",
        "if username == \"basha\" and password == \"basha123\":\n",
        "    print(\"Login successful\")\n",
        "else:\n",
        "    print(\"Invalid credentials\")"
      ],
      "metadata": {
        "colab": {
          "base_uri": "https://localhost:8080/"
        },
        "id": "u2lVZKgoaJA5",
        "outputId": "06c78831-6199-413e-9c70-fadade407888"
      },
      "execution_count": 36,
      "outputs": [
        {
          "output_type": "stream",
          "name": "stdout",
          "text": [
            "basha\n",
            "basha123\n",
            "Login successful\n"
          ]
        }
      ]
    },
    {
      "cell_type": "code",
      "source": [
        "x=21\n",
        "if x>20:\n",
        "    print(\"data\")\n",
        "    print(\"Edukron\")"
      ],
      "metadata": {
        "colab": {
          "base_uri": "https://localhost:8080/"
        },
        "id": "CU6P8YEXf2eF",
        "outputId": "d54dcd93-02fa-4993-de4a-68486e6d4087"
      },
      "execution_count": 39,
      "outputs": [
        {
          "output_type": "stream",
          "name": "stdout",
          "text": [
            "data\n",
            "Edukron\n"
          ]
        }
      ]
    },
    {
      "cell_type": "code",
      "source": [
        "x=\"data1science\"\n",
        "if x.isalnum():\n",
        "    print(\"test\")"
      ],
      "metadata": {
        "colab": {
          "base_uri": "https://localhost:8080/"
        },
        "id": "yjOC4yOtjPxA",
        "outputId": "8d1bfc36-fee8-4aa5-e85c-8301aa256e06"
      },
      "execution_count": 43,
      "outputs": [
        {
          "output_type": "stream",
          "name": "stdout",
          "text": [
            "test\n"
          ]
        }
      ]
    },
    {
      "cell_type": "code",
      "source": [
        "x=\"1236789\"\n",
        "if x.isalnum() and len(x)>5:\n",
        "    print(\"test\")"
      ],
      "metadata": {
        "colab": {
          "base_uri": "https://localhost:8080/"
        },
        "id": "zL7B2FDjjiYZ",
        "outputId": "d92dcea9-0885-4448-f7a9-ed83bf99cf27"
      },
      "execution_count": 44,
      "outputs": [
        {
          "output_type": "stream",
          "name": "stdout",
          "text": [
            "test\n"
          ]
        }
      ]
    },
    {
      "cell_type": "code",
      "source": [
        "x=\"Data\"\n",
        "if x.startswith(\"d\".upper()):\n",
        "    print(\"test\")\n",
        "else:\n",
        "    print(\"edukron\")"
      ],
      "metadata": {
        "colab": {
          "base_uri": "https://localhost:8080/"
        },
        "id": "-bOYjgocj3wM",
        "outputId": "092d5d13-e3ca-4b11-df67-b871e0a074a9"
      },
      "execution_count": 45,
      "outputs": [
        {
          "output_type": "stream",
          "name": "stdout",
          "text": [
            "test\n"
          ]
        }
      ]
    },
    {
      "cell_type": "code",
      "source": [
        "x=3\n",
        "y=20\n",
        "if x>2:\n",
        "    x=x+200\n",
        "else:\n",
        "    y=200+x\n",
        "print(x,y)"
      ],
      "metadata": {
        "colab": {
          "base_uri": "https://localhost:8080/"
        },
        "id": "DNwLfx9Jj-6j",
        "outputId": "d87a51e8-c536-42e6-d6bf-93483ada458d"
      },
      "execution_count": 51,
      "outputs": [
        {
          "output_type": "stream",
          "name": "stdout",
          "text": [
            "203 20\n"
          ]
        }
      ]
    },
    {
      "cell_type": "code",
      "source": [
        "x=1\n",
        "y=20\n",
        "if x>5:\n",
        "    x=x+5\n",
        "    y=x-2\n",
        "    x=y+2\n",
        "else:\n",
        "    x=x+1\n",
        "    y=y+2\n",
        "print(x,y)"
      ],
      "metadata": {
        "colab": {
          "base_uri": "https://localhost:8080/"
        },
        "id": "Y9OVNxVNkJV4",
        "outputId": "71ab4ba4-a63a-446b-9d3f-3153293d3ca1"
      },
      "execution_count": 47,
      "outputs": [
        {
          "output_type": "stream",
          "name": "stdout",
          "text": [
            "2 22\n"
          ]
        }
      ]
    },
    {
      "cell_type": "code",
      "source": [
        "x = 1\n",
        "y = 20\n",
        "if x > 5:\n",
        "    x = x + 5\n",
        "    y = x - 2\n",
        "    x = y + 2\n",
        "else:\n",
        "    x = x + 1\n",
        "    y = y + 2\n",
        "print(\"Example 1:\", x, y)"
      ],
      "metadata": {
        "colab": {
          "base_uri": "https://localhost:8080/"
        },
        "id": "g01O1pNmkSVG",
        "outputId": "c514670f-c1c5-4126-f9e1-2e525f14b723"
      },
      "execution_count": 52,
      "outputs": [
        {
          "output_type": "stream",
          "name": "stdout",
          "text": [
            "Example 1: 2 22\n"
          ]
        }
      ]
    },
    {
      "cell_type": "code",
      "source": [
        "a = 10\n",
        "b = 5\n",
        "if a < b:\n",
        "    a += 2\n",
        "    b += 3\n",
        "else:\n",
        "    a -= 2\n",
        "    b *= 2\n",
        "print(\"Example 2:\", a, b)"
      ],
      "metadata": {
        "colab": {
          "base_uri": "https://localhost:8080/"
        },
        "id": "s0EXE6nfmA4_",
        "outputId": "77739323-31a4-4131-e3e3-8cd0605a449d"
      },
      "execution_count": 53,
      "outputs": [
        {
          "output_type": "stream",
          "name": "stdout",
          "text": [
            "Example 2: 8 10\n"
          ]
        }
      ]
    },
    {
      "cell_type": "code",
      "source": [
        "x = 3\n",
        "y = 7\n",
        "if x * 2 > y:\n",
        "    x = x * 2\n",
        "    y = y - 1\n",
        "else:\n",
        "    y = y + 3\n",
        "    x = y - x\n",
        "print(\"Example 3:\", x, y)\n"
      ],
      "metadata": {
        "colab": {
          "base_uri": "https://localhost:8080/"
        },
        "id": "oBdUUODkmLe0",
        "outputId": "f3c7975f-8329-423a-c4bf-fa8fa5c2b973"
      },
      "execution_count": 54,
      "outputs": [
        {
          "output_type": "stream",
          "name": "stdout",
          "text": [
            "Example 3: 7 10\n"
          ]
        }
      ]
    },
    {
      "cell_type": "code",
      "source": [
        "p = 12\n",
        "q = 3\n",
        "if p / q == 4:\n",
        "    p = p + q\n",
        "else:\n",
        "    p = p - q\n",
        "print(\"Example 4:\", p, q)"
      ],
      "metadata": {
        "colab": {
          "base_uri": "https://localhost:8080/"
        },
        "id": "I7x6A3F8mWrK",
        "outputId": "f9205c4d-9646-44b4-c7a5-2a55239be604"
      },
      "execution_count": 55,
      "outputs": [
        {
          "output_type": "stream",
          "name": "stdout",
          "text": [
            "Example 4: 15 3\n"
          ]
        }
      ]
    },
    {
      "cell_type": "code",
      "source": [
        "x = 11\n",
        "y = 8\n",
        "if x % 2 == 0:\n",
        "    y = y + 1\n",
        "else:\n",
        "    x = x + 2\n",
        "    y = y - 2\n",
        "print(\"Example 5:\", x, y)"
      ],
      "metadata": {
        "colab": {
          "base_uri": "https://localhost:8080/"
        },
        "id": "FVRHFdU6nhrE",
        "outputId": "40128eb8-2531-43b6-a2c3-09bfc222bb32"
      },
      "execution_count": 56,
      "outputs": [
        {
          "output_type": "stream",
          "name": "stdout",
          "text": [
            "Example 5: 13 6\n"
          ]
        }
      ]
    },
    {
      "cell_type": "code",
      "source": [
        "a = 5\n",
        "b = 15\n",
        "if a > 2 and b < 20:\n",
        "    a = a * 2\n",
        "    b = b - 5\n",
        "else:\n",
        "    a = a + b\n",
        "print(\"Example 6:\", a, b)"
      ],
      "metadata": {
        "colab": {
          "base_uri": "https://localhost:8080/"
        },
        "id": "NmSOZo3fnpoP",
        "outputId": "977c204b-bda6-43f1-ef53-1d507021d416"
      },
      "execution_count": 57,
      "outputs": [
        {
          "output_type": "stream",
          "name": "stdout",
          "text": [
            "Example 6: 10 10\n"
          ]
        }
      ]
    },
    {
      "cell_type": "code",
      "source": [
        "x = 4\n",
        "y = 9\n",
        "if y > x:\n",
        "    x = x + y\n",
        "    y = y - x\n",
        "else:\n",
        "    x = x - y\n",
        "print(\"Example 7:\", x, y)"
      ],
      "metadata": {
        "colab": {
          "base_uri": "https://localhost:8080/"
        },
        "id": "dhT8pAebnyXx",
        "outputId": "e4f4da17-fb8c-4e57-e14c-d37035bc6278"
      },
      "execution_count": 58,
      "outputs": [
        {
          "output_type": "stream",
          "name": "stdout",
          "text": [
            "Example 7: 13 -4\n"
          ]
        }
      ]
    },
    {
      "cell_type": "code",
      "source": [
        "a = 8\n",
        "b = 12\n",
        "if a == b:\n",
        "    a = a * b\n",
        "else:\n",
        "    b = b - a\n",
        "print(\"Example 8:\", a, b)"
      ],
      "metadata": {
        "colab": {
          "base_uri": "https://localhost:8080/"
        },
        "id": "oUebGOpLn5dY",
        "outputId": "cd270cf6-279b-4dce-df4a-7709af752368"
      },
      "execution_count": 59,
      "outputs": [
        {
          "output_type": "stream",
          "name": "stdout",
          "text": [
            "Example 8: 8 4\n"
          ]
        }
      ]
    },
    {
      "cell_type": "code",
      "source": [
        "x = 6\n",
        "y = 6\n",
        "if x >= y:\n",
        "    x = x ** 2\n",
        "    y = y + 1\n",
        "else:\n",
        "    y = y ** 2\n",
        "print(\"Example 9:\", x, y)"
      ],
      "metadata": {
        "colab": {
          "base_uri": "https://localhost:8080/"
        },
        "id": "HhCVGr1Ko-Z0",
        "outputId": "284dd318-567b-4ed0-fbc5-3a0d9005e42c"
      },
      "execution_count": 60,
      "outputs": [
        {
          "output_type": "stream",
          "name": "stdout",
          "text": [
            "Example 9: 36 7\n"
          ]
        }
      ]
    },
    {
      "cell_type": "code",
      "source": [
        "a = 2\n",
        "b = 18\n",
        "if b % a == 0:\n",
        "    b = b // a\n",
        "else:\n",
        "    a = b % a\n",
        "print(\"Example 10:\", a, b)"
      ],
      "metadata": {
        "colab": {
          "base_uri": "https://localhost:8080/"
        },
        "id": "merQDD8LpFUj",
        "outputId": "49e3f483-e478-4fc4-bbdf-6c3a3e341b5d"
      },
      "execution_count": 61,
      "outputs": [
        {
          "output_type": "stream",
          "name": "stdout",
          "text": [
            "Example 10: 2 9\n"
          ]
        }
      ]
    },
    {
      "cell_type": "markdown",
      "source": [
        "##LOOPS"
      ],
      "metadata": {
        "id": "-fHZDElcpqKW"
      }
    },
    {
      "cell_type": "code",
      "source": [
        "x=\"Bhasha1\"\n",
        "for z in x:\n",
        "    print(z.isalpha())"
      ],
      "metadata": {
        "colab": {
          "base_uri": "https://localhost:8080/"
        },
        "id": "DHO-4uvupLsa",
        "outputId": "ccbbb48c-48b1-45ff-d254-c0a369ac65a5"
      },
      "execution_count": 63,
      "outputs": [
        {
          "output_type": "stream",
          "name": "stdout",
          "text": [
            "True\n",
            "True\n",
            "True\n",
            "True\n",
            "True\n",
            "True\n",
            "False\n"
          ]
        }
      ]
    },
    {
      "cell_type": "code",
      "source": [
        "    x=[[4,5,6,\"Data\"],1,2,3,\"data\"]"
      ],
      "metadata": {
        "id": "XSmr58SOpsw6"
      },
      "execution_count": 72,
      "outputs": []
    },
    {
      "cell_type": "code",
      "source": [
        "for i in x:\n",
        "    print(len(str(i)))"
      ],
      "metadata": {
        "colab": {
          "base_uri": "https://localhost:8080/"
        },
        "id": "KqmZZI6Op009",
        "outputId": "f0114700-0519-4412-891f-35cf4cfc9844"
      },
      "execution_count": 73,
      "outputs": [
        {
          "output_type": "stream",
          "name": "stdout",
          "text": [
            "17\n",
            "1\n",
            "1\n",
            "1\n",
            "4\n"
          ]
        }
      ]
    },
    {
      "cell_type": "code",
      "source": [
        "x=\"Data science machine leanring\"\n",
        "for i in x.split():\n",
        "    print(len(i))"
      ],
      "metadata": {
        "colab": {
          "base_uri": "https://localhost:8080/"
        },
        "id": "uZ95Ryqqp2Wz",
        "outputId": "355eb906-ec34-46d3-865c-59e23bf47431"
      },
      "execution_count": 74,
      "outputs": [
        {
          "output_type": "stream",
          "name": "stdout",
          "text": [
            "4\n",
            "7\n",
            "7\n",
            "8\n"
          ]
        }
      ]
    },
    {
      "cell_type": "code",
      "source": [
        "for i in [1,2,3,4,5]:\n",
        "    print(\"*\"*(6-i))"
      ],
      "metadata": {
        "colab": {
          "base_uri": "https://localhost:8080/"
        },
        "id": "NWH_eFc5q9wI",
        "outputId": "31b5a820-b359-4637-97e8-49be430cd11d"
      },
      "execution_count": 75,
      "outputs": [
        {
          "output_type": "stream",
          "name": "stdout",
          "text": [
            "*****\n",
            "****\n",
            "***\n",
            "**\n",
            "*\n"
          ]
        }
      ]
    },
    {
      "cell_type": "code",
      "source": [
        "for i in range(1,6):\n",
        "    print(i,end=',')"
      ],
      "metadata": {
        "colab": {
          "base_uri": "https://localhost:8080/"
        },
        "id": "YCchAHeerCvf",
        "outputId": "c91451fa-37ac-47df-ed2e-092039ed58a1"
      },
      "execution_count": 76,
      "outputs": [
        {
          "output_type": "stream",
          "name": "stdout",
          "text": [
            "1,2,3,4,5,"
          ]
        }
      ]
    },
    {
      "cell_type": "code",
      "source": [
        " for i in range(0,15):\n",
        "  print(i,end=\",\")"
      ],
      "metadata": {
        "colab": {
          "base_uri": "https://localhost:8080/"
        },
        "id": "KNCiljRjrPM2",
        "outputId": "1c0aea56-8b98-47e3-ec66-e912028c8670"
      },
      "execution_count": 77,
      "outputs": [
        {
          "output_type": "stream",
          "name": "stdout",
          "text": [
            "0,1,2,3,4,5,6,7,8,9,10,11,12,13,14,"
          ]
        }
      ]
    },
    {
      "cell_type": "code",
      "source": [
        "from typing import Counter\n",
        "num=[1,3,5,7,9,2]\n",
        "Counter=[ ]\n",
        "for i in num:\n",
        "  square=i**2\n",
        "  Counter.append(square)\n",
        "print(Counter)"
      ],
      "metadata": {
        "colab": {
          "base_uri": "https://localhost:8080/"
        },
        "id": "nI5Sasitr4MJ",
        "outputId": "cbb7d56b-144a-4fb1-efa9-2be8c61d7110"
      },
      "execution_count": 78,
      "outputs": [
        {
          "output_type": "stream",
          "name": "stdout",
          "text": [
            "[1, 9, 25, 49, 81, 4]\n"
          ]
        }
      ]
    },
    {
      "cell_type": "code",
      "source": [],
      "metadata": {
        "id": "5Lf9Vi9v4KCS"
      },
      "execution_count": null,
      "outputs": []
    }
  ]
}